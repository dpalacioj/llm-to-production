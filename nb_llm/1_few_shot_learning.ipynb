{
 "cells": [
  {
   "cell_type": "code",
   "execution_count": 1,
   "metadata": {},
   "outputs": [],
   "source": [
    "from dotenv import load_dotenv\n",
    "load_dotenv()\n",
    "import os\n",
    "import openai"
   ]
  },
  {
   "cell_type": "code",
   "execution_count": 12,
   "metadata": {},
   "outputs": [],
   "source": [
    "openai.api_key = os.getenv(\"OPENAI_API_KEY\")"
   ]
  },
  {
   "cell_type": "markdown",
   "metadata": {},
   "source": [
    "Oficial documentation about `text generation`:\n",
    "* https://platform.openai.com/docs/guides/text-generation"
   ]
  },
  {
   "cell_type": "code",
   "execution_count": 34,
   "metadata": {},
   "outputs": [],
   "source": [
    "# Prompt Summarization\n",
    "\n",
    "prompt = \"\"\"\n",
    "You are a movie enthusiast who loves to describe films using emojis. \n",
    "\n",
    "Your task is to represent a movie with a set of relevant emojis. \n",
    "You should use at least 4 emojis and capture the essence of the film.\n",
    "Also I need the name of the movie described\n",
    "\n",
    "Now, describe this movie using emojis:\n",
    "\n",
    "{movie}:\n",
    "\"\"\"\n",
    "\n",
    "\n",
    "examples = [\n",
    "    {\"input\": \"Titanic\", \"output\": \"🚢❄️💑💔\"},\n",
    "    {\"input\": \"Finding Nemo\", \"output\": \"🐠🌊👨‍👦🦈\"}\n",
    "]"
   ]
  },
  {
   "cell_type": "code",
   "execution_count": 30,
   "metadata": {},
   "outputs": [
    {
     "name": "stdout",
     "output_type": "stream",
     "text": [
      "\n",
      "You are a movie enthusiast who loves to describe films using emojis. \n",
      "\n",
      "Your task is to represent a movie with a set of relevant emojis. \n",
      "You should use at least 4 emojis and capture the essence of the film.\n",
      "\n",
      "Now, describe this movie using emojis:\n",
      "\n",
      "Titanic:\n",
      "\n"
     ]
    }
   ],
   "source": [
    "print(prompt.format(movie=examples[0][\"input\"]))"
   ]
  },
  {
   "cell_type": "code",
   "execution_count": 35,
   "metadata": {},
   "outputs": [],
   "source": [
    "movie = \"The Dark Night\"\n",
    "\n",
    "response = openai.chat.completions.create(\n",
    "    model= \"gpt-3.5-turbo\",\n",
    "    #max_completion_tokens= 12,\n",
    "    messages = [\n",
    "        {\"role\": \"system\", \"content\": \"You are a helpful assitant.\"},\n",
    "\n",
    "        {\"role\": \"user\", \"content\": prompt.format(movie=examples[0][\"input\"])},\n",
    "        {\"role\": \"assistant\", \"content\": prompt.format(movie=examples[0][\"output\"])},\n",
    "\n",
    "        {\"role\": \"user\", \"content\": prompt.format(movie=examples[1][\"input\"])},\n",
    "        {\"role\": \"assistant\", \"content\": prompt.format(movie=examples[1][\"output\"])},\n",
    "\n",
    "        {\"role\": \"user\", \"content\": prompt.format(movie=movie)}\n",
    "    ]\n",
    ")"
   ]
  },
  {
   "cell_type": "code",
   "execution_count": 32,
   "metadata": {},
   "outputs": [
    {
     "name": "stdout",
     "output_type": "stream",
     "text": [
      "ChatCompletion(id='chatcmpl-AFo1eNiM7dZkelya5BUTe61E5jUcO', choices=[Choice(finish_reason='stop', index=0, logprobs=None, message=ChatCompletionMessage(content='🦇🃏🌃🤖', refusal=None, role='assistant', function_call=None, tool_calls=None))], created=1728330582, model='gpt-3.5-turbo-0125', object='chat.completion', service_tier=None, system_fingerprint=None, usage=CompletionUsage(completion_tokens=12, prompt_tokens=344, total_tokens=356, completion_tokens_details=CompletionTokensDetails(audio_tokens=None, reasoning_tokens=0), prompt_tokens_details=PromptTokensDetails(audio_tokens=None, cached_tokens=0)))\n"
     ]
    },
    {
     "data": {
      "text/plain": [
       "openai.types.chat.chat_completion.ChatCompletion"
      ]
     },
     "execution_count": 32,
     "metadata": {},
     "output_type": "execute_result"
    }
   ],
   "source": [
    "print(response)\n",
    "type(response)"
   ]
  },
  {
   "cell_type": "code",
   "execution_count": 36,
   "metadata": {},
   "outputs": [
    {
     "name": "stdout",
     "output_type": "stream",
     "text": [
      "🦇🌃🃏🦹‍♂️: The Dark Knight\n"
     ]
    }
   ],
   "source": [
    "print(response.choices[0].message.content)"
   ]
  }
 ],
 "metadata": {
  "kernelspec": {
   "display_name": "llm_production",
   "language": "python",
   "name": "python3"
  },
  "language_info": {
   "codemirror_mode": {
    "name": "ipython",
    "version": 3
   },
   "file_extension": ".py",
   "mimetype": "text/x-python",
   "name": "python",
   "nbconvert_exporter": "python",
   "pygments_lexer": "ipython3",
   "version": "3.10.15"
  }
 },
 "nbformat": 4,
 "nbformat_minor": 2
}
