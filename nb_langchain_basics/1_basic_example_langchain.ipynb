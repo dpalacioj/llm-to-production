{
 "cells": [
  {
   "cell_type": "markdown",
   "metadata": {},
   "source": [
    "To execute succesfully this notebook you should to install the following requirements:\n",
    "\n",
    "* `langchain==0.1.11`\n",
    "* `openai==1.13.3`\n",
    "* `PyPDF2==3.0.1`\n",
    "* `faiss-cpu==1.8.0`\n",
    "* `tiktoken==0.6.0`\n",
    "* `pandas`\n",
    "* `pydantic==2.6.3`"
   ]
  },
  {
   "cell_type": "code",
   "execution_count": 1,
   "metadata": {},
   "outputs": [],
   "source": [
    "from PyPDF2 import PdfReader\n",
    "from langchain.embeddings.openai import OpenAIEmbeddings\n",
    "from langchain.vectorstores import FAISS\n",
    "from langchain.text_splitter import CharacterTextSplitter\n",
    "from langchain.chains.question_answering import load_qa_chain\n",
    "from langchain.llms import OpenAI"
   ]
  },
  {
   "cell_type": "code",
   "execution_count": null,
   "metadata": {},
   "outputs": [],
   "source": [
    "# import json\n",
    "\n",
    "# with open('config.json') as config_file:\n",
    "#     config = json.load(config_file)\n",
    "#     open_api_key = config['openai_api_key']\n",
    "\n",
    "# print(open_api_key)"
   ]
  },
  {
   "cell_type": "code",
   "execution_count": 8,
   "metadata": {},
   "outputs": [],
   "source": [
    "from dotenv import load_dotenv\n",
    "import os\n",
    "\n",
    "load_dotenv()  # Carga las variables de entorno desde .env\n",
    "open_api_key = os.getenv('OPENAI_API_KEY')"
   ]
  },
  {
   "cell_type": "markdown",
   "metadata": {},
   "source": [
    "# Simple Call"
   ]
  },
  {
   "cell_type": "code",
   "execution_count": 9,
   "metadata": {},
   "outputs": [],
   "source": [
    "llm = OpenAI(model_name='gpt-3.5-turbo-instruct', openai_api_key=open_api_key)"
   ]
  },
  {
   "cell_type": "code",
   "execution_count": 5,
   "metadata": {},
   "outputs": [
    {
     "name": "stderr",
     "output_type": "stream",
     "text": [
      "c:\\Users\\DAVIDPJ\\david\\envs\\udemy_llm\\lib\\site-packages\\langchain_core\\_api\\deprecation.py:117: LangChainDeprecationWarning: The function `__call__` was deprecated in LangChain 0.1.7 and will be removed in 0.2.0. Use invoke instead.\n",
      "  warn_deprecated(\n"
     ]
    },
    {
     "name": "stdout",
     "output_type": "stream",
     "text": [
      "\n",
      "\n",
      "Unfortunately, I could not find any information on a person named David Palacio winning awards. Without more context, I cannot accurately answer this question. \n"
     ]
    }
   ],
   "source": [
    "our_query = \"How many awards did David Palacio won?\"\n",
    "print(llm(our_query))"
   ]
  },
  {
   "cell_type": "code",
   "execution_count": 6,
   "metadata": {},
   "outputs": [
    {
     "data": {
      "text/plain": [
       "langchain_community.llms.openai.OpenAI"
      ]
     },
     "execution_count": 6,
     "metadata": {},
     "output_type": "execute_result"
    }
   ],
   "source": [
    "type(llm)"
   ]
  },
  {
   "cell_type": "markdown",
   "metadata": {},
   "source": [
    "# LLM Call a PDF"
   ]
  },
  {
   "cell_type": "code",
   "execution_count": 7,
   "metadata": {},
   "outputs": [],
   "source": [
    "data = PdfReader(r'D:\\udemy\\LangChain\\dpj_description.pdf')"
   ]
  },
  {
   "cell_type": "code",
   "execution_count": 8,
   "metadata": {},
   "outputs": [
    {
     "name": "stdout",
     "output_type": "stream",
     "text": [
      "1\n",
      "{'/Author': 'XXXXX', '/Creator': 'Microsoft® Word 2019', '/CreationDate': \"D:20240307220345-05'00'\", '/ModDate': \"D:20240307220345-05'00'\", '/Producer': 'Microsoft® Word 2019'}\n"
     ]
    }
   ],
   "source": [
    "print(len(data.pages))\n",
    "print(data.metadata)"
   ]
  },
  {
   "cell_type": "code",
   "execution_count": 28,
   "metadata": {},
   "outputs": [
    {
     "name": "stdout",
     "output_type": "stream",
     "text": [
      "David is a Colombian g uy dedicated to be a n AI engineer focu sed on Generative AI models, regression \n",
      "models and unbalanced cases associated with geological problems.  \n",
      " \n",
      "David was awarded a scholarship for his Master of Science  degree in Analytics . Also he took sexond place \n",
      "in chess tournaments in the department of Antioquia – Colombia.  \n",
      " \n",
      "He is 29 years old.  \n",
      "\n",
      "\n",
      "<class 'str'>\n",
      "\n",
      "\n",
      "La cantidad de caracteres que tiene el pdf corresponden a: 370\n"
     ]
    }
   ],
   "source": [
    "combined_text = ''\n",
    "for i, page in enumerate(data.pages):\n",
    "    text = page.extract_text()\n",
    "    if text:\n",
    "        combined_text += text\n",
    "    \n",
    "print(combined_text)\n",
    "print(\"\\n\")\n",
    "print(type(combined_text))\n",
    "print(\"\\n\")\n",
    "print(\"La cantidad de caracteres que tiene el pdf corresponden a: \" + str(len(combined_text)))"
   ]
  },
  {
   "cell_type": "code",
   "execution_count": 32,
   "metadata": {},
   "outputs": [
    {
     "name": "stdout",
     "output_type": "stream",
     "text": [
      "<class 'str'>\n"
     ]
    }
   ],
   "source": [
    "text = page.extract_text()\n",
    "text\n",
    "print(type(text))"
   ]
  },
  {
   "cell_type": "code",
   "execution_count": 33,
   "metadata": {},
   "outputs": [
    {
     "name": "stdout",
     "output_type": "stream",
     "text": [
      "['David is a Colombian g uy dedicated to be a n AI engineer focu sed on Generative AI models, regression \\nmodels and unbalanced cases associated with geological problems.  \\n \\nDavid was awarded a scholarship for his Master of Science  degree in Analytics . Also he took sexond place \\nin chess tournaments in the department of Antioquia – Colombia.  \\n \\nHe is 29 years old.']\n",
      "\n",
      "\n",
      "<class 'list'>\n",
      "1\n"
     ]
    }
   ],
   "source": [
    "text_splitter = CharacterTextSplitter(\n",
    "    separator = \"\\n\",\n",
    "    chunk_size = 370,\n",
    "    chunk_overlap = 20,\n",
    "    length_function = len,\n",
    ")\n",
    "\n",
    "finalData = text_splitter.split_text(combined_text)\n",
    "print(finalData)\n",
    "print(\"\\n\")\n",
    "print(type(finalData))\n",
    "print(len(finalData))"
   ]
  },
  {
   "cell_type": "code",
   "execution_count": 15,
   "metadata": {},
   "outputs": [
    {
     "data": {
      "text/plain": [
       "'David was awarded a scholarship for his Master of Science  degree in Analytics . Also he took sexond place \\nin chess tournaments in the department of Antioquia – Colombia.  \\n \\nHe is 29 years old.'"
      ]
     },
     "execution_count": 15,
     "metadata": {},
     "output_type": "execute_result"
    }
   ],
   "source": [
    "#finalData[0]\n",
    "finalData[1]"
   ]
  },
  {
   "cell_type": "markdown",
   "metadata": {},
   "source": [
    "## FAISS"
   ]
  },
  {
   "cell_type": "markdown",
   "metadata": {},
   "source": [
    "Facebook AI Similarity Search (Faiss) is a library for efficient similarity search and clustering of dense vectors. It contains algorithms that search in sets of vectors of any size, up to ones that possibly do not fit in RAM. It also contains supporting code for evaluation and parameter tuning. To see more information click [here](https://python.langchain.com/docs/integrations/vectorstores/faiss)."
   ]
  },
  {
   "cell_type": "code",
   "execution_count": 36,
   "metadata": {},
   "outputs": [],
   "source": [
    "embeddings = OpenAIEmbeddings(openai_api_key=open_api_key)"
   ]
  },
  {
   "cell_type": "code",
   "execution_count": 37,
   "metadata": {},
   "outputs": [],
   "source": [
    "documentSearch = FAISS.from_texts(finalData, embeddings)"
   ]
  },
  {
   "cell_type": "code",
   "execution_count": 51,
   "metadata": {},
   "outputs": [],
   "source": [
    "chain = load_qa_chain(OpenAI(openai_api_key=open_api_key), chain_type=\"stuff\")"
   ]
  },
  {
   "cell_type": "code",
   "execution_count": 52,
   "metadata": {},
   "outputs": [
    {
     "name": "stderr",
     "output_type": "stream",
     "text": [
      "c:\\Users\\DAVIDPJ\\david\\envs\\udemy_llm\\lib\\site-packages\\langchain_core\\_api\\deprecation.py:117: LangChainDeprecationWarning: The function `run` was deprecated in LangChain 0.1.0 and will be removed in 0.2.0. Use invoke instead.\n",
      "  warn_deprecated(\n"
     ]
    },
    {
     "data": {
      "text/plain": [
       "' David Palacio is 29 years old.'"
      ]
     },
     "execution_count": 52,
     "metadata": {},
     "output_type": "execute_result"
    }
   ],
   "source": [
    "our_query = \"How old is David Palacio?\"\n",
    "docs = documentSearch.similarity_search(our_query)\n",
    "chain.run(input_documents=docs, question=our_query)"
   ]
  }
 ],
 "metadata": {
  "kernelspec": {
   "display_name": "udemy_llm",
   "language": "python",
   "name": "python3"
  },
  "language_info": {
   "codemirror_mode": {
    "name": "ipython",
    "version": 3
   },
   "file_extension": ".py",
   "mimetype": "text/x-python",
   "name": "python",
   "nbconvert_exporter": "python",
   "pygments_lexer": "ipython3",
   "version": "3.10.13"
  }
 },
 "nbformat": 4,
 "nbformat_minor": 2
}
